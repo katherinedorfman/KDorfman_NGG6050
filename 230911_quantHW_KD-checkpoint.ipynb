{
 "cells": [
  {
   "cell_type": "markdown",
   "id": "f6a84026",
   "metadata": {},
   "source": [
    "the ChatGPT conversation that I used can be found here:\n",
    "https://chat.openai.com/share/54ab32b8-27d0-43fd-b575-25a82712b2a1"
   ]
  },
  {
   "cell_type": "code",
   "execution_count": null,
   "id": "5ab25ef6",
   "metadata": {},
   "outputs": [],
   "source": [
    "# import libraries\n",
    "\n",
    "import numpy as np\n",
    "import random as rnd\n",
    "import collections\n",
    "import matplotlib.pyplot as plt\n",
    "import time\n",
    "import scipy.stats as st\n",
    "\n",
    "from scipy.stats import bernoulli, binom, poisson, chi2\n",
    "from IPython.display import clear_output\n",
    "from operator import itemgetter\n",
    "from statsmodels.stats import proportion\n",
    "\n",
    "from numpy import matlib"
   ]
  },
  {
   "cell_type": "markdown",
   "id": "c84240c9",
   "metadata": {},
   "source": [
    "Exercise 1"
   ]
  },
  {
   "cell_type": "markdown",
   "id": "f0dc394e",
   "metadata": {},
   "source": [
    "I generated the following code using ChatGPT by giving it the following prompt:\n",
    "\"write me python code for the following: Assume that there are 10 quanta available in a nerve terminal, and for a given release event each is released with a probability of 0.2. For one such event, what is the probability that 0, 1, 2, 3, 4, 5, 6, 7, 8, 9, or 10 quanta will be released?\""
   ]
  },
  {
   "cell_type": "code",
   "execution_count": 2,
   "id": "d1d4b7ae",
   "metadata": {},
   "outputs": [
    {
     "name": "stdout",
     "output_type": "stream",
     "text": [
      "Probability of 0 quanta released: 0.1074\n",
      "Probability of 1 quanta released: 0.2684\n",
      "Probability of 2 quanta released: 0.3020\n",
      "Probability of 3 quanta released: 0.2013\n",
      "Probability of 4 quanta released: 0.0881\n",
      "Probability of 5 quanta released: 0.0264\n",
      "Probability of 6 quanta released: 0.0055\n",
      "Probability of 7 quanta released: 0.0008\n",
      "Probability of 8 quanta released: 0.0001\n",
      "Probability of 9 quanta released: 0.0000\n",
      "Probability of 10 quanta released: 0.0000\n"
     ]
    }
   ],
   "source": [
    "from scipy.stats import binom\n",
    "\n",
    "total_quanta = 10\n",
    "release_probability = 0.2\n",
    "\n",
    "# Initialize a list to store the probabilities for each outcome\n",
    "probabilities = []\n",
    "\n",
    "# Calculate the probability for 0 to 10 quanta being released\n",
    "for i in range(total_quanta + 1):\n",
    "    probability = binom.pmf(i, total_quanta, release_probability)\n",
    "    probabilities.append((i, probability))\n",
    "\n",
    "# Print the probabilities\n",
    "for outcome, probability in probabilities:\n",
    "    print(f\"Probability of {outcome} quanta released: {probability:.4f}\")\n"
   ]
  },
  {
   "cell_type": "markdown",
   "id": "953e7f7a",
   "metadata": {},
   "source": [
    "Exercise 2"
   ]
  },
  {
   "cell_type": "markdown",
   "id": "69bfaf41",
   "metadata": {},
   "source": [
    "I generated the following code using ChatGPT and giving it the following prompt: \n",
    "\"Write me python code for the following: There is a nerve terminal with 14 quanta available for release. You activate the nerve and measure 8 quanta released. What is the probability of getting this result if the probability of release was 0.1 to 1 in increments of 0.1? Compute a likelihood function.\"\n",
    "\n",
    "I modified in slightly to show results as decimals instead of e\n",
    "\n",
    "The probability of getting this result if the true probability of release was 0.1 is 0, and if it is 0.7 then the probability is 0.13. The most probable release probability given the measurements is 0.6."
   ]
  },
  {
   "cell_type": "code",
   "execution_count": 4,
   "id": "cf32b38d",
   "metadata": {},
   "outputs": [
    {
     "name": "stdout",
     "output_type": "stream",
     "text": [
      "Probability of release = 0.1: Likelihood = 0.0000\n",
      "Probability of release = 0.2: Likelihood = 0.0020\n",
      "Probability of release = 0.3: Likelihood = 0.0232\n",
      "Probability of release = 0.4: Likelihood = 0.0918\n",
      "Probability of release = 0.5: Likelihood = 0.1833\n",
      "Probability of release = 0.6: Likelihood = 0.2066\n",
      "Probability of release = 0.7: Likelihood = 0.1262\n",
      "Probability of release = 0.8: Likelihood = 0.0322\n",
      "Probability of release = 0.9: Likelihood = 0.0013\n",
      "Probability of release = 1.0: Likelihood = 0.0000\n"
     ]
    }
   ],
   "source": [
    "from scipy.stats import binom\n",
    "import numpy as np\n",
    "\n",
    "# Constants\n",
    "total_quanta = 14\n",
    "observed_quanta = 8\n",
    "probability_range = np.arange(0.1, 1.1, 0.1)\n",
    "\n",
    "# Initialize a list to store the likelihoods for each probability\n",
    "likelihoods = []\n",
    "\n",
    "# Calculate the likelihood for each probability in the range\n",
    "for p_release in probability_range:\n",
    "    likelihood = binom.pmf(observed_quanta, total_quanta, p_release)\n",
    "    likelihoods.append((p_release, likelihood))\n",
    "\n",
    "# Print the likelihoods\n",
    "for p_release, likelihood in likelihoods:\n",
    "    print(f\"Probability of release = {p_release:.1f}: Likelihood = {likelihood:.4f}\")\n"
   ]
  },
  {
   "cell_type": "markdown",
   "id": "bb3968b7",
   "metadata": {},
   "source": [
    "Exercise 3"
   ]
  },
  {
   "cell_type": "markdown",
   "id": "6fe7b598",
   "metadata": {},
   "source": [
    "Write me python code for the following: \n",
    "\"There is a nerve terminal with 14 quanta available for release. You activate the nerve and measure 8 quanta released. You activate it again in an independent experiment and measure 5 quanta. What is the probability of getting this result if the probability of release was 0.1 to 1 in increments of 0.1? Compute a likelihood function, where the total likelihood is the product of the likelihood of each separate measurement. Compute the log-likelihood funciton by computing the sum of the logarithm of each likelihood. Repeat the above code using probabilities of release from 0.05 to 1 in increments of 0.05.\"\n",
    "\n",
    "In the first iteration, the code only printed the total likelihood, so I had to prompt it to also print the log-likelihood. I also had to fix the log likelihood equation (it was just taking the log of the total likelihood).\n",
    "\n",
    "If the true release probability is 0.1, then the total likelihood is 0 and the log likelihood is -inf (which makes me think there might be something wrong with the code). \n",
    "The maximum value of the total likelihood 0.0224, which is at a probability of release of 0.5. The estimate is improved with higher resolution and higher sample size."
   ]
  },
  {
   "cell_type": "code",
   "execution_count": 8,
   "id": "1afc3246",
   "metadata": {},
   "outputs": [
    {
     "name": "stdout",
     "output_type": "stream",
     "text": [
      "Probability of release = 0.05: Total Likelihood = 0.0000, Log-Likelihood = -inf\n",
      "Probability of release = 0.10: Total Likelihood = 0.0000, Log-Likelihood = -inf\n",
      "Probability of release = 0.15: Total Likelihood = 0.0000, Log-Likelihood = -inf\n",
      "Probability of release = 0.20: Total Likelihood = 0.0002, Log-Likelihood = -inf\n",
      "Probability of release = 0.25: Total Likelihood = 0.0012, Log-Likelihood = -inf\n",
      "Probability of release = 0.30: Total Likelihood = 0.0046, Log-Likelihood = -inf\n",
      "Probability of release = 0.35: Total Likelihood = 0.0111, Log-Likelihood = -inf\n",
      "Probability of release = 0.40: Total Likelihood = 0.0190, Log-Likelihood = -inf\n",
      "Probability of release = 0.45: Total Likelihood = 0.0238, Log-Likelihood = -inf\n",
      "Probability of release = 0.50: Total Likelihood = 0.0224, Log-Likelihood = -inf\n",
      "Probability of release = 0.55: Total Likelihood = 0.0159, Log-Likelihood = -inf\n",
      "Probability of release = 0.60: Total Likelihood = 0.0084, Log-Likelihood = -inf\n",
      "Probability of release = 0.65: Total Likelihood = 0.0032, Log-Likelihood = -inf\n",
      "Probability of release = 0.70: Total Likelihood = 0.0008, Log-Likelihood = -inf\n",
      "Probability of release = 0.75: Total Likelihood = 0.0001, Log-Likelihood = -inf\n",
      "Probability of release = 0.80: Total Likelihood = 0.0000, Log-Likelihood = -inf\n",
      "Probability of release = 0.85: Total Likelihood = 0.0000, Log-Likelihood = -inf\n",
      "Probability of release = 0.90: Total Likelihood = 0.0000, Log-Likelihood = -inf\n",
      "Probability of release = 0.95: Total Likelihood = 0.0000, Log-Likelihood = -inf\n",
      "Probability of release = 1.00: Total Likelihood = 0.0000, Log-Likelihood = -inf\n"
     ]
    },
    {
     "name": "stderr",
     "output_type": "stream",
     "text": [
      "C:\\Users\\kesd1\\AppData\\Local\\Temp\\ipykernel_22684\\4017245815.py:23: RuntimeWarning: divide by zero encountered in log\n",
      "  log_likelihood = np.log(likelihood1) + np.log(likelihood2)\n"
     ]
    }
   ],
   "source": [
    "from scipy.stats import binom\n",
    "import numpy as np\n",
    "\n",
    "# Constants\n",
    "total_quanta = 14\n",
    "observed_quanta1 = 8\n",
    "observed_quanta2 = 5\n",
    "probability_range = np.arange(0.05, 1.05, 0.05)\n",
    "\n",
    "# Initialize a list to store the likelihoods and log-likelihoods for each probability\n",
    "likelihoods = []\n",
    "log_likelihoods = []\n",
    "\n",
    "# Calculate the likelihood and log-likelihood for each probability in the range\n",
    "for p_release in probability_range:\n",
    "    likelihood1 = binom.pmf(observed_quanta1, total_quanta, p_release)\n",
    "    likelihood2 = binom.pmf(observed_quanta2, total_quanta, p_release)\n",
    "    \n",
    "    # Calculate the total likelihood as the product of the likelihoods\n",
    "    total_likelihood = likelihood1 * likelihood2\n",
    "    \n",
    "    # Calculate the log-likelihood as the sum of the logarithm of each likelihood\n",
    "    log_likelihood = np.log(likelihood1) + np.log(likelihood2)\n",
    "    \n",
    "    likelihoods.append((p_release, total_likelihood))\n",
    "    log_likelihoods.append((p_release, log_likelihood))\n",
    "\n",
    "# Print the likelihoods and log-likelihoods\n",
    "for p_release, total_likelihood in likelihoods:\n",
    "    log_likelihood = next(log_likelihood for prob, log_like in log_likelihoods if prob == p_release)\n",
    "    print(f\"Probability of release = {p_release:.2f}: Total Likelihood = {total_likelihood:.4f}, Log-Likelihood = {log_likelihood:.4f}\")\n"
   ]
  },
  {
   "cell_type": "markdown",
   "id": "a788a8cc",
   "metadata": {},
   "source": [
    "Exercise 4"
   ]
  },
  {
   "cell_type": "markdown",
   "id": "cf72af26",
   "metadata": {},
   "source": [
    "I used the following ChatGPT prompt:\n",
    "\n",
    "\"Write me python code for the following: \n",
    "You conduct the same experiment as above 100 times and get the following data:\n",
    "measured_releases = np.arange(1,15,1)\n",
    "count = [0,0,3,10,19,26,16,16,5,5,0,0,0,0]\n",
    "Write python code to calculate the most likely value of probability of release, where probability of release is between 0 and 1 in increments of 0.1.\"\n",
    "\n",
    "The most probable p hat value is 0.45."
   ]
  },
  {
   "cell_type": "code",
   "execution_count": 15,
   "id": "a6d009ef",
   "metadata": {},
   "outputs": [
    {
     "name": "stdout",
     "output_type": "stream",
     "text": [
      "Maximum Likelihood Estimate for p_release: 0.45\n"
     ]
    }
   ],
   "source": [
    "import numpy as np\n",
    "from scipy.stats import binom\n",
    "from scipy.optimize import minimize_scalar\n",
    "\n",
    "# Given data\n",
    "measured_releases = np.arange(1, 15, 1)\n",
    "count = [0, 0, 3, 10, 19, 26, 16, 16, 5, 5, 0, 0, 0, 0]\n",
    "\n",
    "# Function to compute the negative log-likelihood\n",
    "def negative_log_likelihood(p_release):\n",
    "    likelihood = 0.0\n",
    "    for observed, c in zip(measured_releases, count):\n",
    "        likelihood += c * np.log(binom.pmf(observed, total_quanta, p_release))\n",
    "    return -likelihood\n",
    "\n",
    "# Constants\n",
    "total_quanta = 14\n",
    "\n",
    "# Find the maximum likelihood estimate for p_release\n",
    "result = minimize_scalar(negative_log_likelihood, bounds=(0, 1), method='bounded')\n",
    "\n",
    "# The MLE estimate for p_release\n",
    "mle_p_release = result.x\n",
    "\n",
    "print(f\"Maximum Likelihood Estimate for p_release: {mle_p_release:.2f}\")\n"
   ]
  },
  {
   "cell_type": "markdown",
   "id": "c585326c",
   "metadata": {},
   "source": [
    "Exercise 5"
   ]
  },
  {
   "cell_type": "markdown",
   "id": "49f7914a",
   "metadata": {},
   "source": [
    "I used the following prompt for ChatGPT:\n",
    "\"You conduct the same experiment as above with 14 available quanta and measure 7 quantal events.\n",
    "Write python code to calculate the most likely value of probability of release, where probability of release is between 0 and 1 in increments of 0.1.\n",
    "Write python code to calculate the probability of getting this probability of release given the the true probability of release is 0.3.\"\n",
    "\n",
    "The probability that you would have gotten the measurement if the null hypothesis was true is 0.06. In this case, the p value is more that 0.05, so you would fail to reject the null hypothesis."
   ]
  },
  {
   "cell_type": "code",
   "execution_count": 14,
   "id": "21bd5b44",
   "metadata": {},
   "outputs": [
    {
     "name": "stdout",
     "output_type": "stream",
     "text": [
      "Maximum Likelihood Estimate for p_release: 0.50\n",
      "Probability of observing 7 quanta with p_release = 0.50 given true p_release = 0.30: 0.2095\n",
      "Probability of observing 7 quanta with p_release = 0.30 given true p_release = 0.30: 0.0618\n"
     ]
    }
   ],
   "source": [
    "import numpy as np\n",
    "from scipy.stats import binom\n",
    "from scipy.optimize import minimize_scalar\n",
    "\n",
    "# Given data\n",
    "observed_quanta = 7\n",
    "total_quanta = 14\n",
    "true_p_release = 0.3\n",
    "\n",
    "# Function to compute the negative log-likelihood\n",
    "def negative_log_likelihood(p_release):\n",
    "    likelihood = binom.pmf(observed_quanta, total_quanta, p_release)\n",
    "    return -np.log(likelihood)\n",
    "\n",
    "# Find the maximum likelihood estimate for p_release\n",
    "result = minimize_scalar(negative_log_likelihood, bounds=(0, 1), method='bounded')\n",
    "\n",
    "# The MLE estimate for p_release\n",
    "mle_p_release = result.x\n",
    "\n",
    "print(f\"Maximum Likelihood Estimate for p_release: {mle_p_release:.2f}\")\n",
    "\n",
    "# Calculate the probability of obtaining the MLE estimate given the true p_release\n",
    "likelihood_at_mle = binom.pmf(observed_quanta, total_quanta, mle_p_release)\n",
    "probability_given_true = binom.pmf(observed_quanta, total_quanta, true_p_release)\n",
    "\n",
    "print(f\"Probability of observing {observed_quanta} quanta with p_release = {mle_p_release:.2f} given true p_release = {true_p_release:.2f}: {likelihood_at_mle:.4f}\")\n",
    "print(f\"Probability of observing {observed_quanta} quanta with p_release = {true_p_release:.2f} given true p_release = {true_p_release:.2f}: {probability_given_true:.4f}\")\n"
   ]
  },
  {
   "cell_type": "code",
   "execution_count": null,
   "id": "e7ab3cf6",
   "metadata": {},
   "outputs": [],
   "source": []
  }
 ],
 "metadata": {
  "kernelspec": {
   "display_name": "Python 3 (ipykernel)",
   "language": "python",
   "name": "python3"
  },
  "language_info": {
   "codemirror_mode": {
    "name": "ipython",
    "version": 3
   },
   "file_extension": ".py",
   "mimetype": "text/x-python",
   "name": "python",
   "nbconvert_exporter": "python",
   "pygments_lexer": "ipython3",
   "version": "3.11.4"
  }
 },
 "nbformat": 4,
 "nbformat_minor": 5
}
